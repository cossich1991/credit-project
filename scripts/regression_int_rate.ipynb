{
 "cells": [
  {
   "cell_type": "code",
   "execution_count": 3,
   "metadata": {
    "collapsed": true
   },
   "outputs": [],
   "source": [
    "# Import libraries\n",
    "import os\n",
    "import pickle\n",
    "\n",
    "import numpy as np\n",
    "import pandas as pd\n",
    "from sklearn.model_selection import train_test_split\n",
    "from sklearn.ensemble import RandomForestRegressor\n",
    "from sklearn.metrics import mean_squared_error, r2_score\n",
    "from scripts import get_binary_data"
   ]
  },
  {
   "cell_type": "code",
   "execution_count": 4,
   "outputs": [
    {
     "data": {
      "text/plain": "       person_age  person_income person_home_ownership  person_emp_length  \\\n0              21           9600                   OWN                5.0   \n1              25           9600              MORTGAGE                1.0   \n2              23          65500                  RENT                4.0   \n3              24          54400                  RENT                8.0   \n4              21           9900                   OWN                2.0   \n...           ...            ...                   ...                ...   \n30387          40          33000              MORTGAGE                2.0   \n30388          37          90000              MORTGAGE               11.0   \n30389          38         200000              MORTGAGE                0.0   \n30390          38         110000              MORTGAGE                5.0   \n30391          40          52000                  RENT                2.0   \n\n             loan_intent loan_grade  loan_amnt  loan_int_rate  loan_status  \\\n0              EDUCATION          B       1000          11.14            0   \n1                MEDICAL          C       5500          12.87            1   \n2                MEDICAL          C      35000          15.23            1   \n3                MEDICAL          C      35000          14.27            1   \n4                VENTURE          A       2500           7.14            1   \n...                  ...        ...        ...            ...          ...   \n30387    HOMEIMPROVEMENT          B       1000          10.99            0   \n30388  DEBTCONSOLIDATION          A       4000           6.62            0   \n30389  DEBTCONSOLIDATION          A       3000           7.68            0   \n30390            MEDICAL          B      16000          11.99            0   \n30391          EDUCATION          F      15000          18.62            1   \n\n       loan_percent_income cb_person_default_on_file  \\\n0                     0.10                         N   \n1                     0.57                         N   \n2                     0.53                         N   \n3                     0.55                         Y   \n4                     0.25                         N   \n...                    ...                       ...   \n30387                 0.03                         N   \n30388                 0.04                         N   \n30389                 0.01                         N   \n30390                 0.15                         N   \n30391                 0.29                         Y   \n\n       cb_person_cred_hist_length  \n0                               2  \n1                               3  \n2                               2  \n3                               4  \n4                               2  \n...                           ...  \n30387                          15  \n30388                          15  \n30389                          12  \n30390                          13  \n30391                          16  \n\n[30392 rows x 12 columns]",
      "text/html": "<div>\n<style scoped>\n    .dataframe tbody tr th:only-of-type {\n        vertical-align: middle;\n    }\n\n    .dataframe tbody tr th {\n        vertical-align: top;\n    }\n\n    .dataframe thead th {\n        text-align: right;\n    }\n</style>\n<table border=\"1\" class=\"dataframe\">\n  <thead>\n    <tr style=\"text-align: right;\">\n      <th></th>\n      <th>person_age</th>\n      <th>person_income</th>\n      <th>person_home_ownership</th>\n      <th>person_emp_length</th>\n      <th>loan_intent</th>\n      <th>loan_grade</th>\n      <th>loan_amnt</th>\n      <th>loan_int_rate</th>\n      <th>loan_status</th>\n      <th>loan_percent_income</th>\n      <th>cb_person_default_on_file</th>\n      <th>cb_person_cred_hist_length</th>\n    </tr>\n  </thead>\n  <tbody>\n    <tr>\n      <th>0</th>\n      <td>21</td>\n      <td>9600</td>\n      <td>OWN</td>\n      <td>5.0</td>\n      <td>EDUCATION</td>\n      <td>B</td>\n      <td>1000</td>\n      <td>11.14</td>\n      <td>0</td>\n      <td>0.10</td>\n      <td>N</td>\n      <td>2</td>\n    </tr>\n    <tr>\n      <th>1</th>\n      <td>25</td>\n      <td>9600</td>\n      <td>MORTGAGE</td>\n      <td>1.0</td>\n      <td>MEDICAL</td>\n      <td>C</td>\n      <td>5500</td>\n      <td>12.87</td>\n      <td>1</td>\n      <td>0.57</td>\n      <td>N</td>\n      <td>3</td>\n    </tr>\n    <tr>\n      <th>2</th>\n      <td>23</td>\n      <td>65500</td>\n      <td>RENT</td>\n      <td>4.0</td>\n      <td>MEDICAL</td>\n      <td>C</td>\n      <td>35000</td>\n      <td>15.23</td>\n      <td>1</td>\n      <td>0.53</td>\n      <td>N</td>\n      <td>2</td>\n    </tr>\n    <tr>\n      <th>3</th>\n      <td>24</td>\n      <td>54400</td>\n      <td>RENT</td>\n      <td>8.0</td>\n      <td>MEDICAL</td>\n      <td>C</td>\n      <td>35000</td>\n      <td>14.27</td>\n      <td>1</td>\n      <td>0.55</td>\n      <td>Y</td>\n      <td>4</td>\n    </tr>\n    <tr>\n      <th>4</th>\n      <td>21</td>\n      <td>9900</td>\n      <td>OWN</td>\n      <td>2.0</td>\n      <td>VENTURE</td>\n      <td>A</td>\n      <td>2500</td>\n      <td>7.14</td>\n      <td>1</td>\n      <td>0.25</td>\n      <td>N</td>\n      <td>2</td>\n    </tr>\n    <tr>\n      <th>...</th>\n      <td>...</td>\n      <td>...</td>\n      <td>...</td>\n      <td>...</td>\n      <td>...</td>\n      <td>...</td>\n      <td>...</td>\n      <td>...</td>\n      <td>...</td>\n      <td>...</td>\n      <td>...</td>\n      <td>...</td>\n    </tr>\n    <tr>\n      <th>30387</th>\n      <td>40</td>\n      <td>33000</td>\n      <td>MORTGAGE</td>\n      <td>2.0</td>\n      <td>HOMEIMPROVEMENT</td>\n      <td>B</td>\n      <td>1000</td>\n      <td>10.99</td>\n      <td>0</td>\n      <td>0.03</td>\n      <td>N</td>\n      <td>15</td>\n    </tr>\n    <tr>\n      <th>30388</th>\n      <td>37</td>\n      <td>90000</td>\n      <td>MORTGAGE</td>\n      <td>11.0</td>\n      <td>DEBTCONSOLIDATION</td>\n      <td>A</td>\n      <td>4000</td>\n      <td>6.62</td>\n      <td>0</td>\n      <td>0.04</td>\n      <td>N</td>\n      <td>15</td>\n    </tr>\n    <tr>\n      <th>30389</th>\n      <td>38</td>\n      <td>200000</td>\n      <td>MORTGAGE</td>\n      <td>0.0</td>\n      <td>DEBTCONSOLIDATION</td>\n      <td>A</td>\n      <td>3000</td>\n      <td>7.68</td>\n      <td>0</td>\n      <td>0.01</td>\n      <td>N</td>\n      <td>12</td>\n    </tr>\n    <tr>\n      <th>30390</th>\n      <td>38</td>\n      <td>110000</td>\n      <td>MORTGAGE</td>\n      <td>5.0</td>\n      <td>MEDICAL</td>\n      <td>B</td>\n      <td>16000</td>\n      <td>11.99</td>\n      <td>0</td>\n      <td>0.15</td>\n      <td>N</td>\n      <td>13</td>\n    </tr>\n    <tr>\n      <th>30391</th>\n      <td>40</td>\n      <td>52000</td>\n      <td>RENT</td>\n      <td>2.0</td>\n      <td>EDUCATION</td>\n      <td>F</td>\n      <td>15000</td>\n      <td>18.62</td>\n      <td>1</td>\n      <td>0.29</td>\n      <td>Y</td>\n      <td>16</td>\n    </tr>\n  </tbody>\n</table>\n<p>30392 rows × 12 columns</p>\n</div>"
     },
     "execution_count": 4,
     "metadata": {},
     "output_type": "execute_result"
    }
   ],
   "source": [
    "# Load data\n",
    "df = pd.read_csv('./../data/processed_credit_risk_data.csv')\n",
    "df"
   ],
   "metadata": {
    "collapsed": false
   }
  },
  {
   "cell_type": "code",
   "execution_count": 5,
   "outputs": [
    {
     "data": {
      "text/plain": "       person_age  person_income person_home_ownership  person_emp_length  \\\n0              21           9600                   OWN                5.0   \n1              25           9600              MORTGAGE                1.0   \n2              23          65500                  RENT                4.0   \n3              24          54400                  RENT                8.0   \n4              21           9900                   OWN                2.0   \n...           ...            ...                   ...                ...   \n30387          40          33000              MORTGAGE                2.0   \n30388          37          90000              MORTGAGE               11.0   \n30389          38         200000              MORTGAGE                0.0   \n30390          38         110000              MORTGAGE                5.0   \n30391          40          52000                  RENT                2.0   \n\n             loan_intent loan_grade  loan_amnt  loan_int_rate  loan_status  \\\n0              EDUCATION          B       1000          11.14            0   \n1                MEDICAL          C       5500          12.87            1   \n2                MEDICAL          C      35000          15.23            1   \n3                MEDICAL          C      35000          14.27            1   \n4                VENTURE          A       2500           7.14            1   \n...                  ...        ...        ...            ...          ...   \n30387    HOMEIMPROVEMENT          B       1000          10.99            0   \n30388  DEBTCONSOLIDATION          A       4000           6.62            0   \n30389  DEBTCONSOLIDATION          A       3000           7.68            0   \n30390            MEDICAL          B      16000          11.99            0   \n30391          EDUCATION          F      15000          18.62            1   \n\n       loan_percent_income  cb_person_default_on_file  \\\n0                     0.10                          0   \n1                     0.57                          0   \n2                     0.53                          0   \n3                     0.55                          1   \n4                     0.25                          0   \n...                    ...                        ...   \n30387                 0.03                          0   \n30388                 0.04                          0   \n30389                 0.01                          0   \n30390                 0.15                          0   \n30391                 0.29                          1   \n\n       cb_person_cred_hist_length  \n0                               2  \n1                               3  \n2                               2  \n3                               4  \n4                               2  \n...                           ...  \n30387                          15  \n30388                          15  \n30389                          12  \n30390                          13  \n30391                          16  \n\n[30392 rows x 12 columns]",
      "text/html": "<div>\n<style scoped>\n    .dataframe tbody tr th:only-of-type {\n        vertical-align: middle;\n    }\n\n    .dataframe tbody tr th {\n        vertical-align: top;\n    }\n\n    .dataframe thead th {\n        text-align: right;\n    }\n</style>\n<table border=\"1\" class=\"dataframe\">\n  <thead>\n    <tr style=\"text-align: right;\">\n      <th></th>\n      <th>person_age</th>\n      <th>person_income</th>\n      <th>person_home_ownership</th>\n      <th>person_emp_length</th>\n      <th>loan_intent</th>\n      <th>loan_grade</th>\n      <th>loan_amnt</th>\n      <th>loan_int_rate</th>\n      <th>loan_status</th>\n      <th>loan_percent_income</th>\n      <th>cb_person_default_on_file</th>\n      <th>cb_person_cred_hist_length</th>\n    </tr>\n  </thead>\n  <tbody>\n    <tr>\n      <th>0</th>\n      <td>21</td>\n      <td>9600</td>\n      <td>OWN</td>\n      <td>5.0</td>\n      <td>EDUCATION</td>\n      <td>B</td>\n      <td>1000</td>\n      <td>11.14</td>\n      <td>0</td>\n      <td>0.10</td>\n      <td>0</td>\n      <td>2</td>\n    </tr>\n    <tr>\n      <th>1</th>\n      <td>25</td>\n      <td>9600</td>\n      <td>MORTGAGE</td>\n      <td>1.0</td>\n      <td>MEDICAL</td>\n      <td>C</td>\n      <td>5500</td>\n      <td>12.87</td>\n      <td>1</td>\n      <td>0.57</td>\n      <td>0</td>\n      <td>3</td>\n    </tr>\n    <tr>\n      <th>2</th>\n      <td>23</td>\n      <td>65500</td>\n      <td>RENT</td>\n      <td>4.0</td>\n      <td>MEDICAL</td>\n      <td>C</td>\n      <td>35000</td>\n      <td>15.23</td>\n      <td>1</td>\n      <td>0.53</td>\n      <td>0</td>\n      <td>2</td>\n    </tr>\n    <tr>\n      <th>3</th>\n      <td>24</td>\n      <td>54400</td>\n      <td>RENT</td>\n      <td>8.0</td>\n      <td>MEDICAL</td>\n      <td>C</td>\n      <td>35000</td>\n      <td>14.27</td>\n      <td>1</td>\n      <td>0.55</td>\n      <td>1</td>\n      <td>4</td>\n    </tr>\n    <tr>\n      <th>4</th>\n      <td>21</td>\n      <td>9900</td>\n      <td>OWN</td>\n      <td>2.0</td>\n      <td>VENTURE</td>\n      <td>A</td>\n      <td>2500</td>\n      <td>7.14</td>\n      <td>1</td>\n      <td>0.25</td>\n      <td>0</td>\n      <td>2</td>\n    </tr>\n    <tr>\n      <th>...</th>\n      <td>...</td>\n      <td>...</td>\n      <td>...</td>\n      <td>...</td>\n      <td>...</td>\n      <td>...</td>\n      <td>...</td>\n      <td>...</td>\n      <td>...</td>\n      <td>...</td>\n      <td>...</td>\n      <td>...</td>\n    </tr>\n    <tr>\n      <th>30387</th>\n      <td>40</td>\n      <td>33000</td>\n      <td>MORTGAGE</td>\n      <td>2.0</td>\n      <td>HOMEIMPROVEMENT</td>\n      <td>B</td>\n      <td>1000</td>\n      <td>10.99</td>\n      <td>0</td>\n      <td>0.03</td>\n      <td>0</td>\n      <td>15</td>\n    </tr>\n    <tr>\n      <th>30388</th>\n      <td>37</td>\n      <td>90000</td>\n      <td>MORTGAGE</td>\n      <td>11.0</td>\n      <td>DEBTCONSOLIDATION</td>\n      <td>A</td>\n      <td>4000</td>\n      <td>6.62</td>\n      <td>0</td>\n      <td>0.04</td>\n      <td>0</td>\n      <td>15</td>\n    </tr>\n    <tr>\n      <th>30389</th>\n      <td>38</td>\n      <td>200000</td>\n      <td>MORTGAGE</td>\n      <td>0.0</td>\n      <td>DEBTCONSOLIDATION</td>\n      <td>A</td>\n      <td>3000</td>\n      <td>7.68</td>\n      <td>0</td>\n      <td>0.01</td>\n      <td>0</td>\n      <td>12</td>\n    </tr>\n    <tr>\n      <th>30390</th>\n      <td>38</td>\n      <td>110000</td>\n      <td>MORTGAGE</td>\n      <td>5.0</td>\n      <td>MEDICAL</td>\n      <td>B</td>\n      <td>16000</td>\n      <td>11.99</td>\n      <td>0</td>\n      <td>0.15</td>\n      <td>0</td>\n      <td>13</td>\n    </tr>\n    <tr>\n      <th>30391</th>\n      <td>40</td>\n      <td>52000</td>\n      <td>RENT</td>\n      <td>2.0</td>\n      <td>EDUCATION</td>\n      <td>F</td>\n      <td>15000</td>\n      <td>18.62</td>\n      <td>1</td>\n      <td>0.29</td>\n      <td>1</td>\n      <td>16</td>\n    </tr>\n  </tbody>\n</table>\n<p>30392 rows × 12 columns</p>\n</div>"
     },
     "execution_count": 5,
     "metadata": {},
     "output_type": "execute_result"
    }
   ],
   "source": [
    "# Replace categorical variable with numeric for random forest training\n",
    "df['cb_person_default_on_file'] = df.apply(lambda x: get_binary_data(x['cb_person_default_on_file']), axis=1)\n",
    "df"
   ],
   "metadata": {
    "collapsed": false
   }
  },
  {
   "cell_type": "code",
   "execution_count": 6,
   "outputs": [],
   "source": [
    "# Apply one-hot encoding to a categorical columns\n",
    "df_feat = pd.get_dummies(df,\n",
    "                         columns=['person_home_ownership', 'loan_intent', 'loan_grade'],\n",
    "                         drop_first=True)"
   ],
   "metadata": {
    "collapsed": false
   }
  },
  {
   "cell_type": "code",
   "execution_count": 7,
   "outputs": [
    {
     "data": {
      "text/plain": "loan_int_rate                  1.000000\ncb_person_default_on_file      0.477958\nloan_grade_D                   0.454932\nloan_grade_C                   0.358753\nloan_status                    0.317782\nloan_grade_E                   0.310677\nloan_grade_F                   0.188199\nloan_amnt                      0.137058\nperson_home_ownership_RENT     0.131150\nloan_grade_G                   0.125252\nloan_percent_income            0.114378\nloan_intent_HOMEIMPROVEMENT    0.020846\ncb_person_cred_hist_length     0.020829\nperson_age                     0.018649\nperson_home_ownership_OTHER    0.014569\nloan_intent_MEDICAL            0.005804\nloan_intent_PERSONAL           0.001082\nperson_income                 -0.002109\nloan_grade_B                  -0.004310\nloan_intent_VENTURE           -0.008089\nperson_home_ownership_OWN     -0.011144\nloan_intent_EDUCATION         -0.011726\nperson_emp_length             -0.054157\nName: loan_int_rate, dtype: float64"
     },
     "execution_count": 7,
     "metadata": {},
     "output_type": "execute_result"
    }
   ],
   "source": [
    "df_feat.corr()['loan_int_rate'].sort_values(ascending=False)"
   ],
   "metadata": {
    "collapsed": false
   }
  },
  {
   "cell_type": "code",
   "execution_count": 8,
   "outputs": [],
   "source": [
    "# Features considered in training\n",
    "features = ['person_age', 'person_income', 'person_emp_length', 'loan_amnt',\n",
    "            'loan_status', 'cb_person_default_on_file', 'cb_person_cred_hist_length',\n",
    "            'person_home_ownership_RENT', 'loan_intent_EDUCATION',\n",
    "            'loan_intent_HOMEIMPROVEMENT', 'loan_intent_MEDICAL',\n",
    "            'loan_intent_PERSONAL', 'loan_intent_VENTURE', 'loan_grade_B',\n",
    "            'loan_grade_C', 'loan_grade_D', 'loan_grade_E', 'loan_grade_F',\n",
    "            'loan_grade_G']"
   ],
   "metadata": {
    "collapsed": false
   }
  },
  {
   "cell_type": "code",
   "execution_count": 9,
   "outputs": [
    {
     "data": {
      "text/plain": "19"
     },
     "execution_count": 9,
     "metadata": {},
     "output_type": "execute_result"
    }
   ],
   "source": [
    "len(features)"
   ],
   "metadata": {
    "collapsed": false
   }
  },
  {
   "cell_type": "code",
   "execution_count": 10,
   "outputs": [],
   "source": [
    "# Get data for supervised training with random forest\n",
    "X = df_feat[features]\n",
    "y = df_feat.loan_int_rate"
   ],
   "metadata": {
    "collapsed": false
   }
  },
  {
   "cell_type": "code",
   "execution_count": 11,
   "outputs": [],
   "source": [
    "# Separate 70% for training and 30% for test\n",
    "X_train, X_test, y_train, y_test = train_test_split(X, y, test_size=0.3, random_state=0)"
   ],
   "metadata": {
    "collapsed": false
   }
  },
  {
   "cell_type": "code",
   "execution_count": 12,
   "outputs": [],
   "source": [
    "# Instantiate regressor\n",
    "reg = RandomForestRegressor(n_estimators=100, random_state=1)"
   ],
   "metadata": {
    "collapsed": false
   }
  },
  {
   "cell_type": "code",
   "execution_count": 13,
   "outputs": [
    {
     "data": {
      "text/plain": "RandomForestRegressor(random_state=1)",
      "text/html": "<style>#sk-container-id-1 {color: black;}#sk-container-id-1 pre{padding: 0;}#sk-container-id-1 div.sk-toggleable {background-color: white;}#sk-container-id-1 label.sk-toggleable__label {cursor: pointer;display: block;width: 100%;margin-bottom: 0;padding: 0.3em;box-sizing: border-box;text-align: center;}#sk-container-id-1 label.sk-toggleable__label-arrow:before {content: \"▸\";float: left;margin-right: 0.25em;color: #696969;}#sk-container-id-1 label.sk-toggleable__label-arrow:hover:before {color: black;}#sk-container-id-1 div.sk-estimator:hover label.sk-toggleable__label-arrow:before {color: black;}#sk-container-id-1 div.sk-toggleable__content {max-height: 0;max-width: 0;overflow: hidden;text-align: left;background-color: #f0f8ff;}#sk-container-id-1 div.sk-toggleable__content pre {margin: 0.2em;color: black;border-radius: 0.25em;background-color: #f0f8ff;}#sk-container-id-1 input.sk-toggleable__control:checked~div.sk-toggleable__content {max-height: 200px;max-width: 100%;overflow: auto;}#sk-container-id-1 input.sk-toggleable__control:checked~label.sk-toggleable__label-arrow:before {content: \"▾\";}#sk-container-id-1 div.sk-estimator input.sk-toggleable__control:checked~label.sk-toggleable__label {background-color: #d4ebff;}#sk-container-id-1 div.sk-label input.sk-toggleable__control:checked~label.sk-toggleable__label {background-color: #d4ebff;}#sk-container-id-1 input.sk-hidden--visually {border: 0;clip: rect(1px 1px 1px 1px);clip: rect(1px, 1px, 1px, 1px);height: 1px;margin: -1px;overflow: hidden;padding: 0;position: absolute;width: 1px;}#sk-container-id-1 div.sk-estimator {font-family: monospace;background-color: #f0f8ff;border: 1px dotted black;border-radius: 0.25em;box-sizing: border-box;margin-bottom: 0.5em;}#sk-container-id-1 div.sk-estimator:hover {background-color: #d4ebff;}#sk-container-id-1 div.sk-parallel-item::after {content: \"\";width: 100%;border-bottom: 1px solid gray;flex-grow: 1;}#sk-container-id-1 div.sk-label:hover label.sk-toggleable__label {background-color: #d4ebff;}#sk-container-id-1 div.sk-serial::before {content: \"\";position: absolute;border-left: 1px solid gray;box-sizing: border-box;top: 0;bottom: 0;left: 50%;z-index: 0;}#sk-container-id-1 div.sk-serial {display: flex;flex-direction: column;align-items: center;background-color: white;padding-right: 0.2em;padding-left: 0.2em;position: relative;}#sk-container-id-1 div.sk-item {position: relative;z-index: 1;}#sk-container-id-1 div.sk-parallel {display: flex;align-items: stretch;justify-content: center;background-color: white;position: relative;}#sk-container-id-1 div.sk-item::before, #sk-container-id-1 div.sk-parallel-item::before {content: \"\";position: absolute;border-left: 1px solid gray;box-sizing: border-box;top: 0;bottom: 0;left: 50%;z-index: -1;}#sk-container-id-1 div.sk-parallel-item {display: flex;flex-direction: column;z-index: 1;position: relative;background-color: white;}#sk-container-id-1 div.sk-parallel-item:first-child::after {align-self: flex-end;width: 50%;}#sk-container-id-1 div.sk-parallel-item:last-child::after {align-self: flex-start;width: 50%;}#sk-container-id-1 div.sk-parallel-item:only-child::after {width: 0;}#sk-container-id-1 div.sk-dashed-wrapped {border: 1px dashed gray;margin: 0 0.4em 0.5em 0.4em;box-sizing: border-box;padding-bottom: 0.4em;background-color: white;}#sk-container-id-1 div.sk-label label {font-family: monospace;font-weight: bold;display: inline-block;line-height: 1.2em;}#sk-container-id-1 div.sk-label-container {text-align: center;}#sk-container-id-1 div.sk-container {/* jupyter's `normalize.less` sets `[hidden] { display: none; }` but bootstrap.min.css set `[hidden] { display: none !important; }` so we also need the `!important` here to be able to override the default hidden behavior on the sphinx rendered scikit-learn.org. See: https://github.com/scikit-learn/scikit-learn/issues/21755 */display: inline-block !important;position: relative;}#sk-container-id-1 div.sk-text-repr-fallback {display: none;}</style><div id=\"sk-container-id-1\" class=\"sk-top-container\"><div class=\"sk-text-repr-fallback\"><pre>RandomForestRegressor(random_state=1)</pre><b>In a Jupyter environment, please rerun this cell to show the HTML representation or trust the notebook. <br />On GitHub, the HTML representation is unable to render, please try loading this page with nbviewer.org.</b></div><div class=\"sk-container\" hidden><div class=\"sk-item\"><div class=\"sk-estimator sk-toggleable\"><input class=\"sk-toggleable__control sk-hidden--visually\" id=\"sk-estimator-id-1\" type=\"checkbox\" checked><label for=\"sk-estimator-id-1\" class=\"sk-toggleable__label sk-toggleable__label-arrow\">RandomForestRegressor</label><div class=\"sk-toggleable__content\"><pre>RandomForestRegressor(random_state=1)</pre></div></div></div></div></div>"
     },
     "execution_count": 13,
     "metadata": {},
     "output_type": "execute_result"
    }
   ],
   "source": [
    "# Training\n",
    "reg.fit(X_train, y_train)"
   ],
   "metadata": {
    "collapsed": false
   }
  },
  {
   "cell_type": "code",
   "execution_count": 14,
   "outputs": [
    {
     "data": {
      "text/plain": "array([14.8782, 13.363 , 11.1572, ...,  7.4347,  7.2659, 10.8343])"
     },
     "execution_count": 14,
     "metadata": {},
     "output_type": "execute_result"
    }
   ],
   "source": [
    "# Prediction\n",
    "y_pred = reg.predict(X_test)\n",
    "y_pred"
   ],
   "metadata": {
    "collapsed": false
   }
  },
  {
   "cell_type": "code",
   "execution_count": 15,
   "outputs": [
    {
     "data": {
      "text/plain": "1.754761421820486"
     },
     "execution_count": 15,
     "metadata": {},
     "output_type": "execute_result"
    }
   ],
   "source": [
    "# Mean squared error\n",
    "mse = mean_squared_error(y_test, y_pred)\n",
    "mse"
   ],
   "metadata": {
    "collapsed": false
   }
  },
  {
   "cell_type": "code",
   "execution_count": 16,
   "outputs": [
    {
     "data": {
      "text/plain": "1.3246740813575564"
     },
     "execution_count": 16,
     "metadata": {},
     "output_type": "execute_result"
    }
   ],
   "source": [
    "# Square root of mean squared error\n",
    "np.sqrt(mse)"
   ],
   "metadata": {
    "collapsed": false
   }
  },
  {
   "cell_type": "code",
   "execution_count": 17,
   "outputs": [
    {
     "data": {
      "text/plain": "0.8183744264370156"
     },
     "execution_count": 17,
     "metadata": {},
     "output_type": "execute_result"
    }
   ],
   "source": [
    "# R2 score\n",
    "r2 = r2_score(y_test, y_pred)\n",
    "r2"
   ],
   "metadata": {
    "collapsed": false
   }
  },
  {
   "cell_type": "code",
   "execution_count": 18,
   "outputs": [],
   "source": [
    "file_path = os.path.abspath('..')"
   ],
   "metadata": {
    "collapsed": false
   }
  },
  {
   "cell_type": "code",
   "execution_count": 19,
   "outputs": [],
   "source": [
    "pickle.dump(reg, open(file_path + '/deploy/loan_int_rate.pkl', 'wb'))"
   ],
   "metadata": {
    "collapsed": false
   }
  }
 ],
 "metadata": {
  "kernelspec": {
   "display_name": "Python 3",
   "language": "python",
   "name": "python3"
  },
  "language_info": {
   "codemirror_mode": {
    "name": "ipython",
    "version": 2
   },
   "file_extension": ".py",
   "mimetype": "text/x-python",
   "name": "python",
   "nbconvert_exporter": "python",
   "pygments_lexer": "ipython2",
   "version": "2.7.6"
  }
 },
 "nbformat": 4,
 "nbformat_minor": 0
}
